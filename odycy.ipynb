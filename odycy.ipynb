{
 "cells": [
  {
   "cell_type": "markdown",
   "metadata": {},
   "source": [
    "# odyCy POS inference\n",
    "\n",
    "firstly, we need to use Python 3.12.x\n",
    "\n",
    "secondly, the odyCy wheel has \"Requires-Dist: spacy <3.8.0,>=3.7.4\" in its metadata\n",
    "so we need to install spacy 3.7.4 (not the latest version)"
   ]
  },
  {
   "cell_type": "code",
   "execution_count": 1,
   "metadata": {},
   "outputs": [
    {
     "name": "stdout",
     "output_type": "stream",
     "text": [
      "Name: spacy\n",
      "Version: 3.7.5\n",
      "Summary: Industrial-strength Natural Language Processing (NLP) in Python\n",
      "Home-page: https://spacy.io\n",
      "Author: Explosion\n",
      "Author-email: contact@explosion.ai\n",
      "License: MIT\n",
      "Location: /Users/albin/.pyenv/versions/odycy/lib/python3.12/site-packages\n",
      "Requires: catalogue, cymem, jinja2, langcodes, murmurhash, numpy, packaging, preshed, pydantic, requests, setuptools, spacy-legacy, spacy-loggers, srsly, thinc, tqdm, typer, wasabi, weasel\n",
      "Required-by: grc_odycy_joint_trf, spacy-transformers\n",
      "Note: you may need to restart the kernel to use updated packages.\n"
     ]
    }
   ],
   "source": [
    "#!pip install 'spacy<3.8.0,>=3.7.4'\n",
    "\n",
    "%pip show spacy"
   ]
  },
  {
   "cell_type": "code",
   "execution_count": null,
   "metadata": {},
   "outputs": [],
   "source": [
    "%pip install grc_odycy_joint_trf-0.7.0-py3-none-any.whl"
   ]
  },
  {
   "cell_type": "code",
   "execution_count": 2,
   "metadata": {},
   "outputs": [
    {
     "name": "stdout",
     "output_type": "stream",
     "text": [
      "Name: grc_odycy_joint_trf\n",
      "Version: 0.7.0\n",
      "Summary: \n",
      "Home-page: \n",
      "Author: \n",
      "Author-email: \n",
      "License: \n",
      "Location: /Users/albin/.pyenv/versions/odycy/lib/python3.12/site-packages\n",
      "Requires: spacy, spacy-transformers\n",
      "Required-by: \n",
      "Note: you may need to restart the kernel to use updated packages.\n"
     ]
    }
   ],
   "source": [
    "%pip show grc_odycy_joint_trf"
   ]
  },
  {
   "cell_type": "code",
   "execution_count": null,
   "metadata": {},
   "outputs": [
    {
     "name": "stdout",
     "output_type": "stream",
     "text": [
      "χαῖρε ὦ οἰκουμένη\n",
      "χαῖρε, \n",
      "χαίρω, \n",
      "VERB, \n",
      "Mood=Imp|Number=Sing|Person=2|Tense=Pres|VerbForm=Fin|Voice=Act, \n",
      "ROOT, \n",
      "χαῖρε\n",
      "ὦ, \n",
      "ὦ, \n",
      "INTJ, \n",
      ", \n",
      "discourse, \n",
      "οἰκουμένη\n",
      "οἰκουμένη, \n",
      "οἰκουμένη, \n",
      "NOUN, \n",
      "Case=Voc|Gender=Fem|Number=Sing, \n",
      "ROOT, \n",
      "οἰκουμένη\n"
     ]
    },
    {
     "name": "stderr",
     "output_type": "stream",
     "text": [
      "/Users/albin/.pyenv/versions/odycy/lib/python3.12/site-packages/thinc/shims/pytorch.py:114: FutureWarning: `torch.cuda.amp.autocast(args...)` is deprecated. Please use `torch.amp.autocast('cuda', args...)` instead.\n",
      "  with torch.cuda.amp.autocast(self._mixed_precision):\n"
     ]
    }
   ],
   "source": [
    "import tqdm\n",
    "import grc_odycy_joint_trf\n",
    "nlp = grc_odycy_joint_trf.load()\n",
    "\n",
    "doc = nlp(\"χαῖρε ὦ οἰκουμένη\")\n",
    "\n",
    "print(doc)\n",
    "for token in doc:\n",
    "   print(f'Orth: {token.orth_}, \\nLemma: {token.lemma_}, \\nPOS: {token.pos_}, \\nMorph: {token.morph}, \\nDep: {token.dep_}, \\nHead: {token.head}')"
   ]
  }
 ],
 "metadata": {
  "kernelspec": {
   "display_name": "odycy",
   "language": "python",
   "name": "python3"
  },
  "language_info": {
   "codemirror_mode": {
    "name": "ipython",
    "version": 3
   },
   "file_extension": ".py",
   "mimetype": "text/x-python",
   "name": "python",
   "nbconvert_exporter": "python",
   "pygments_lexer": "ipython3",
   "version": "3.12.2"
  }
 },
 "nbformat": 4,
 "nbformat_minor": 2
}
