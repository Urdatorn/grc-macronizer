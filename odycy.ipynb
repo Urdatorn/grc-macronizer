{
 "cells": [
  {
   "cell_type": "markdown",
   "metadata": {},
   "source": [
    "# odyCy POS inference\n",
    "\n",
    "firstly, we need to use Python 3.12.x\n",
    "\n",
    "secondly, the odyCy wheel has \"Requires-Dist: spacy <3.8.0,>=3.7.4\" in its metadata\n",
    "so we need to install spacy 3.7.4 (not the latest version)"
   ]
  },
  {
   "cell_type": "code",
   "execution_count": null,
   "metadata": {},
   "outputs": [],
   "source": [
    "!which python\n",
    "\n",
    "#!pip install 'spacy<3.8.0,>=3.7.4'\n",
    "\n",
    "%pip show spacy\n",
    "\n",
    "#%pip install grc_odycy_joint_trf-0.7.0-py3-none-any.whl\n",
    "\n",
    "%pip show grc_odycy_joint_trf"
   ]
  },
  {
   "cell_type": "code",
   "execution_count": 1,
   "metadata": {},
   "outputs": [
    {
     "name": "stdout",
     "output_type": "stream",
     "text": [
      "Token: χαῖρε, \n",
      "\tLemma: χαίρω, \n",
      "\tPOS: VERB, \n",
      "\tMorph: Mood=Imp|Number=Sing|Person=2|Tense=Pres|VerbForm=Fin|Voice=Act, \n",
      "\tDependency relation: ROOT, \n",
      "\tHead word: χαῖρε\n",
      "Token: ὦ, \n",
      "\tLemma: ὦ, \n",
      "\tPOS: INTJ, \n",
      "\tMorph: , \n",
      "\tDependency relation: det, \n",
      "\tHead word: οἰκουμένη\n",
      "Token: οἰκουμένη, \n",
      "\tLemma: οἰκουμένη, \n",
      "\tPOS: NOUN, \n",
      "\tMorph: Case=Nom|Gender=Fem|Number=Sing, \n",
      "\tDependency relation: ROOT, \n",
      "\tHead word: οἰκουμένη\n",
      "Token: ὕδατι, \n",
      "\tLemma: ὕδωρ, \n",
      "\tPOS: NOUN, \n",
      "\tMorph: Case=Dat|Gender=Neut|Number=Sing, \n",
      "\tDependency relation: ROOT, \n",
      "\tHead word: ὕδατι\n"
     ]
    }
   ],
   "source": [
    "from tqdm import tqdm\n",
    "import warnings\n",
    "import grc_odycy_joint_trf # type: ignore\n",
    "\n",
    "warnings.filterwarnings('ignore', category=FutureWarning)\n",
    "\n",
    "nlp = grc_odycy_joint_trf.load()\n",
    "\n",
    "output = nlp(\"χαῖρε ὦ οἰκουμένη ὕδατι\")\n",
    "\n",
    "for token in output:\n",
    "   print(f'Token: {token.orth_}, \\n\\tLemma: {token.lemma_}, \\n\\tPOS: {token.pos_}, \\n\\tMorph: {token.morph}, \\n\\tDependency relation: {token.dep_}, \\n\\tHead word: {token.head}')"
   ]
  }
 ],
 "metadata": {
  "kernelspec": {
   "display_name": "odycy",
   "language": "python",
   "name": "python3"
  },
  "language_info": {
   "codemirror_mode": {
    "name": "ipython",
    "version": 3
   },
   "file_extension": ".py",
   "mimetype": "text/x-python",
   "name": "python",
   "nbconvert_exporter": "python",
   "pygments_lexer": "ipython3",
   "version": "3.12.2"
  }
 },
 "nbformat": 4,
 "nbformat_minor": 2
}
