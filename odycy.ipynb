{
 "cells": [
  {
   "cell_type": "markdown",
   "metadata": {},
   "source": [
    "# odyCy POS inference\n",
    "\n",
    "firstly, we need to use Python 3.12.x\n",
    "\n",
    "secondly, the odyCy wheel has \"Requires-Dist: spacy <3.8.0,>=3.7.4\" in its metadata\n",
    "so we need to install spacy 3.7.4 (not the latest version)"
   ]
  },
  {
   "cell_type": "code",
   "execution_count": 1,
   "metadata": {},
   "outputs": [
    {
     "name": "stdout",
     "output_type": "stream",
     "text": [
      "Name: spacy\n",
      "Version: 3.7.5\n",
      "Summary: Industrial-strength Natural Language Processing (NLP) in Python\n",
      "Home-page: https://spacy.io\n",
      "Author: Explosion\n",
      "Author-email: contact@explosion.ai\n",
      "License: MIT\n",
      "Location: /Users/albin/.pyenv/versions/3.12.2/envs/odycy/lib/python3.12/site-packages\n",
      "Requires: catalogue, cymem, jinja2, langcodes, murmurhash, numpy, packaging, preshed, pydantic, requests, setuptools, spacy-legacy, spacy-loggers, srsly, thinc, tqdm, typer, wasabi, weasel\n",
      "Required-by: grc_odycy_joint_trf, spacy-transformers\n",
      "Note: you may need to restart the kernel to use updated packages.\n"
     ]
    }
   ],
   "source": [
    "#!pip install 'spacy<3.8.0,>=3.7.4'\n",
    "\n",
    "%pip show spacy"
   ]
  },
  {
   "cell_type": "code",
   "execution_count": 2,
   "metadata": {},
   "outputs": [
    {
     "name": "stdout",
     "output_type": "stream",
     "text": [
      "\u001b[33mWARNING: Requirement 'grc_odycy_joint_trf-0.7.0-py3-none-any.whl' looks like a filename, but the file does not exist\u001b[0m\u001b[33m\n",
      "\u001b[0mProcessing ./grc_odycy_joint_trf-0.7.0-py3-none-any.whl\n",
      "\u001b[31mERROR: Could not install packages due to an OSError: [Errno 2] No such file or directory: '/Users/albin/git/macronize-tlg/grc_odycy_joint_trf-0.7.0-py3-none-any.whl'\n",
      "\u001b[0m\u001b[31m\n",
      "\u001b[0m\n",
      "\u001b[1m[\u001b[0m\u001b[34;49mnotice\u001b[0m\u001b[1;39;49m]\u001b[0m\u001b[39;49m A new release of pip is available: \u001b[0m\u001b[31;49m24.0\u001b[0m\u001b[39;49m -> \u001b[0m\u001b[32;49m25.0.1\u001b[0m\n",
      "\u001b[1m[\u001b[0m\u001b[34;49mnotice\u001b[0m\u001b[1;39;49m]\u001b[0m\u001b[39;49m To update, run: \u001b[0m\u001b[32;49mpip install --upgrade pip\u001b[0m\n",
      "Note: you may need to restart the kernel to use updated packages.\n"
     ]
    }
   ],
   "source": [
    "%pip install grc_odycy_joint_trf-0.7.0-py3-none-any.whl"
   ]
  },
  {
   "cell_type": "code",
   "execution_count": 3,
   "metadata": {},
   "outputs": [
    {
     "name": "stdout",
     "output_type": "stream",
     "text": [
      "Name: grc_odycy_joint_trf\n",
      "Version: 0.7.0\n",
      "Summary: \n",
      "Home-page: \n",
      "Author: \n",
      "Author-email: \n",
      "License: \n",
      "Location: /Users/albin/.pyenv/versions/3.12.2/envs/odycy/lib/python3.12/site-packages\n",
      "Requires: spacy, spacy-transformers\n",
      "Required-by: \n",
      "Note: you may need to restart the kernel to use updated packages.\n"
     ]
    }
   ],
   "source": [
    "%pip show grc_odycy_joint_trf"
   ]
  },
  {
   "cell_type": "code",
   "execution_count": 4,
   "metadata": {},
   "outputs": [
    {
     "name": "stdout",
     "output_type": "stream",
     "text": [
      "Token: χαῖρε, \n",
      "\tLemma: χαίρω, \n",
      "\tPOS: VERB, \n",
      "\tMorph: Mood=Imp|Number=Sing|Person=2|Tense=Pres|VerbForm=Fin|Voice=Act, \n",
      "\tDependency relation: ROOT, \n",
      "\tHead word: χαῖρε\n",
      "Token: ὦ, \n",
      "\tLemma: ὦ, \n",
      "\tPOS: INTJ, \n",
      "\tMorph: , \n",
      "\tDependency relation: discourse, \n",
      "\tHead word: οἰκουμένη\n",
      "Token: οἰκουμένη, \n",
      "\tLemma: οἰκουμένη, \n",
      "\tPOS: NOUN, \n",
      "\tMorph: Case=Nom|Gender=Fem|Number=Sing, \n",
      "\tDependency relation: ROOT, \n",
      "\tHead word: οἰκουμένη\n",
      "Token: καλή, \n",
      "\tLemma: καλός, \n",
      "\tPOS: ADJ, \n",
      "\tMorph: Case=Nom|Degree=Pos|Gender=Fem|Number=Sing, \n",
      "\tDependency relation: appos, \n",
      "\tHead word: οἰκουμένη\n"
     ]
    }
   ],
   "source": [
    "from tqdm import tqdm\n",
    "import warnings\n",
    "import grc_odycy_joint_trf # type: ignore\n",
    "\n",
    "warnings.filterwarnings('ignore', category=FutureWarning)\n",
    "\n",
    "nlp = grc_odycy_joint_trf.load()\n",
    "\n",
    "output = nlp(\"χαῖρε ὦ οἰκουμένη καλή\")\n",
    "\n",
    "for token in output:\n",
    "   print(f'Token: {token.orth_}, \\n\\tLemma: {token.lemma_}, \\n\\tPOS: {token.pos_}, \\n\\tMorph: {token.morph}, \\n\\tDependency relation: {token.dep_}, \\n\\tHead word: {token.head}')"
   ]
  },
  {
   "cell_type": "code",
   "execution_count": 5,
   "metadata": {},
   "outputs": [
    {
     "name": "stdout",
     "output_type": "stream",
     "text": [
      "['INTJ', None]\n",
      "['NOUN', ['Nom', 'Fem', 'Sing']]\n",
      "['NOUN', ['Acc', 'Masc', 'Sing']]\n"
     ]
    }
   ],
   "source": [
    "def odycy_morph(word):\n",
    "    output = nlp(word)\n",
    "\n",
    "    result = []\n",
    "\n",
    "    pos = None\n",
    "    morph = None\n",
    "    \n",
    "    for token in output:\n",
    "        pos = token.pos_\n",
    "        morph = token.morph\n",
    "    \n",
    "    result.append(pos) # this makes sure I only analyse one word\n",
    "\n",
    "    if pos == \"VERB\":\n",
    "        morph_list = []\n",
    "        morph_list.append(morph.get(\"Mood\")[0])\n",
    "        morph_list.append(morph.get(\"Number\")[0])\n",
    "        morph_list.append(morph.get(\"Person\")[0])\n",
    "        morph_list.append(morph.get(\"Tense\")[0])\n",
    "        morph_list.append(morph.get(\"VerbForm\")[0])\n",
    "        morph_list.append(morph.get(\"Voice\")[0])\n",
    "        result.append(morph_list)\n",
    "\n",
    "    elif pos == \"NOUN\":\n",
    "        morph_list = []\n",
    "        morph_list.append(morph.get(\"Case\")[0])\n",
    "        morph_list.append(morph.get(\"Gender\")[0])\n",
    "        morph_list.append(morph.get(\"Number\")[0])\n",
    "        result.append(morph_list)\n",
    "\n",
    "    elif pos == \"ADJ\":\n",
    "        morph_list = []\n",
    "        morph_list.append(morph.get(\"Case\")[0])\n",
    "        morph_list.append(morph.get(\"Degree\")[0])\n",
    "        morph_list.append(morph.get(\"Gender\")[0])\n",
    "        morph_list.append(morph.get(\"Number\")[0])\n",
    "        result.append(morph_list)\n",
    "    \n",
    "    else:\n",
    "        result.append(None)\n",
    "\n",
    "    return result\n",
    "\n",
    "word = odycy_morph(\"ὦ\")\n",
    "print(word)\n",
    "\n",
    "word = odycy_morph(\"οἰκουμένη\")\n",
    "print(word)\n",
    "\n",
    "word = odycy_morph(\"προφήτα\")\n",
    "print(word)\n",
    "\n",
    "nlp = grc_odycy_joint_trf.load()\n",
    "output = nlp(\"οἰκουμένη\")\n",
    "\n",
    "def case(odycy_morph_output):\n",
    "    for token in output:\n",
    "        pos = token.pos_\n",
    "        morph = token.morph\n",
    "\n",
    "\n",
    "        return None\n",
    "\n",
    "        morph = token.morph"
   ]
  }
 ],
 "metadata": {
  "kernelspec": {
   "display_name": "odycy",
   "language": "python",
   "name": "python3"
  },
  "language_info": {
   "codemirror_mode": {
    "name": "ipython",
    "version": 3
   },
   "file_extension": ".py",
   "mimetype": "text/x-python",
   "name": "python",
   "nbconvert_exporter": "python",
   "pygments_lexer": "ipython3",
   "version": "3.12.2"
  }
 },
 "nbformat": 4,
 "nbformat_minor": 2
}
