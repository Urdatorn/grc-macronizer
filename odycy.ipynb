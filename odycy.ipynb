{
 "cells": [
  {
   "cell_type": "markdown",
   "metadata": {},
   "source": [
    "# odyCy POS inference\n",
    "\n",
    "firstly, we need to use Python 3.12.x\n",
    "\n",
    "secondly, the odyCy wheel has \"Requires-Dist: spacy <3.8.0,>=3.7.4\" in its metadata\n",
    "so we need to install spacy 3.7.4 (not the latest version)"
   ]
  },
  {
   "cell_type": "code",
   "execution_count": null,
   "metadata": {},
   "outputs": [],
   "source": [
    "!which python\n",
    "\n",
    "#!pip install 'spacy<3.8.0,>=3.7.4'\n",
    "\n",
    "%pip show spacy\n",
    "\n",
    "#%pip install grc_odycy_joint_trf-0.7.0-py3-none-any.whl\n",
    "\n",
    "%pip show grc_odycy_joint_trf"
   ]
  },
  {
   "cell_type": "code",
   "execution_count": 40,
   "metadata": {},
   "outputs": [
    {
     "name": "stdout",
     "output_type": "stream",
     "text": [
      "Token: χαῖρε, \n",
      "\tLemma: χαίρω, \n",
      "\tPOS: VERB, \n",
      "\tMorph: Mood=Imp|Number=Sing|Person=2|Tense=Pres|VerbForm=Fin|Voice=Act, \n",
      "\t\t ['Pres'] \n",
      "\tDependency relation: ROOT, \n",
      "\tHead word: χαῖρε\n",
      "Token: ὦ, \n",
      "\tLemma: ὦ, \n",
      "\tPOS: INTJ, \n",
      "\tMorph: , \n",
      "\t\t [] \n",
      "\tDependency relation: det, \n",
      "\tHead word: οἰκουμένη\n",
      "Token: οἰκουμένη, \n",
      "\tLemma: οἰκουμένη, \n",
      "\tPOS: NOUN, \n",
      "\tMorph: Case=Nom|Gender=Fem|Number=Sing, \n",
      "\t\t [] \n",
      "\tDependency relation: ROOT, \n",
      "\tHead word: οἰκουμένη\n",
      "Token: ὕδατι, \n",
      "\tLemma: ὕδωρ, \n",
      "\tPOS: NOUN, \n",
      "\tMorph: Case=Dat|Gender=Neut|Number=Sing, \n",
      "\t\t [] \n",
      "\tDependency relation: ROOT, \n",
      "\tHead word: ὕδατι\n"
     ]
    }
   ],
   "source": [
    "from tqdm import tqdm\n",
    "import warnings\n",
    "import spacy\n",
    "import grc_odycy_joint_trf # type: ignore\n",
    "\n",
    "warnings.filterwarnings('ignore', category=FutureWarning)\n",
    "\n",
    "nlp = grc_odycy_joint_trf.load()\n",
    "\n",
    "output = nlp(\"χαῖρε ὦ οἰκουμένη ὕδατι\")\n",
    "\n",
    "for token in output:\n",
    "   print(f'Token: {token.orth_}, \\n\\tLemma: {token.lemma_}, \\n\\tPOS: {token.pos_}, \\n\\tMorph: {token.morph}, \\n\\t\\t {token.morph.get(\"Tense\")} \\n\\tDependency relation: {token.dep_}, \\n\\tHead word: {token.head}')"
   ]
  },
  {
   "cell_type": "code",
   "execution_count": null,
   "metadata": {},
   "outputs": [
    {
     "name": "stdout",
     "output_type": "stream",
     "text": [
      "χαῖρε\n",
      "\tPres\n",
      "ὦ\n",
      "οἰκουμένη\n",
      "ὕδατι\n"
     ]
    }
   ],
   "source": [
    "spaCy_cases = {\n",
    "    \"Nom\": \"Nominative\",\n",
    "    \"Acc\": \"Accusative\",\n",
    "    \"Gen\": \"Genitive\",\n",
    "    \"Dat\": \"Dative\",\n",
    "    \"Abl\": \"Ablative\",\n",
    "    \"Loc\": \"Locative\",\n",
    "    \"Voc\": \"Vocative\",\n",
    "    \"Ins\": \"Instrumental\",\n",
    "    \"Part\": \"Partitive\",\n",
    "    \"Ess\": \"Essive\",\n",
    "    \"Trans\": \"Translative\",\n",
    "    \"Com\": \"Comitative\",\n",
    "}\n",
    "\n",
    "for token in output:\n",
    "    print(token)\n",
    "    if token.morph.get(\"Tense\"):\n",
    "        tense = token.morph.get(\"Tense\")[0]\n",
    "        print(\"\\t\" + tense)\n",
    "\n",
    "    if row_header_1 in spaCy_cases.values() and morph in spaCy_cases and spaCy_cases[morph] == row_header_1:\n",
    "            case = row_header_1"
   ]
  }
 ],
 "metadata": {
  "kernelspec": {
   "display_name": "odycy",
   "language": "python",
   "name": "python3"
  },
  "language_info": {
   "codemirror_mode": {
    "name": "ipython",
    "version": 3
   },
   "file_extension": ".py",
   "mimetype": "text/x-python",
   "name": "python",
   "nbconvert_exporter": "python",
   "pygments_lexer": "ipython3",
   "version": "3.12.2"
  }
 },
 "nbformat": 4,
 "nbformat_minor": 2
}
