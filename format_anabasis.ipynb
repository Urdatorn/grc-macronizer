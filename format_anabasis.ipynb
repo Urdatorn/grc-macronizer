{
 "cells": [
  {
   "cell_type": "code",
   "execution_count": 7,
   "metadata": {},
   "outputs": [],
   "source": [
    "from lxml import etree\n",
    "\n",
    "ns = {'tei': 'http://www.tei-c.org/ns/1.0'}\n",
    "\n",
    "text_parts = []\n",
    "# Select <p> elements inside <body> that do NOT have a child <label> with type=\"head\"\n",
    "for p in etree.parse('anabasis.xml').xpath('//tei:body//tei:p[not(tei:label[@type=\"head\"])]', namespaces=ns):\n",
    "    # Strip newlines from the collected text and add to list\n",
    "    text_parts.append(''.join(p.itertext()).replace('\\n', ''))\n",
    "\n",
    "# Join the paragraphs with no space at all\n",
    "text = ''.join(text_parts)\n",
    "\n",
    "with open('anabasis.py', 'w', encoding='utf-8') as file:\n",
    "    file.write(f\"anabasis = '''{text}'''\")"
   ]
  }
 ],
 "metadata": {
  "kernelspec": {
   "display_name": "Python 3",
   "language": "python",
   "name": "python3"
  },
  "language_info": {
   "codemirror_mode": {
    "name": "ipython",
    "version": 3
   },
   "file_extension": ".py",
   "mimetype": "text/x-python",
   "name": "python",
   "nbconvert_exporter": "python",
   "pygments_lexer": "ipython3",
   "version": "3.13.0"
  }
 },
 "nbformat": 4,
 "nbformat_minor": 2
}
