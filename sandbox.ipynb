{
 "cells": [
  {
   "cell_type": "code",
   "execution_count": 1,
   "metadata": {},
   "outputs": [
    {
     "name": "stdout",
     "output_type": "stream",
     "text": [
      "Case 1: paroxytone, short ultima\n",
      "[(-3, 'πα'), (-2, 'πά'), (-1, 'πα^')]\n",
      "πά: paroxytone, short ultima\n",
      "Modified syllable positions: [(-3, 'πα'), (-2, 'πά^'), (-1, 'πα')]\n",
      "New version: παπά^πα\n",
      "παπά^πα^\n",
      "\n",
      "Case 2: paroxytone, long penultima\n",
      "[(-2, 'ά_'), (-1, 'α')]\n",
      "α: paroxytone with long acute\n",
      "Modified syllable positions: [(-2, 'ά'), (-1, 'α_')]\n",
      "New version: άα_\n",
      "ά_α_\n",
      "\n",
      "Case 3a: properispomenon\n",
      "[(-3, 'σω'), (-2, 'τῆ'), (-1, 'ρα')]\n",
      "ρα: properispomenon\n",
      "Modified syllable positions: [(-3, 'σω'), (-2, 'τῆ'), (-1, 'ρα^')]\n",
      "New version: σωτῆρα^\n",
      "σωτῆρα^\n",
      "\n",
      "Case 3b: proparoxytone\n",
      "[(-3, 'πά'), (-2, 'πα'), (-1, 'πα')]\n",
      "πα: proparoxytone\n",
      "Modified syllable positions: [(-3, 'πά'), (-2, 'πα'), (-1, 'πα^')]\n",
      "New version: πάπαπα^\n",
      "πάπαπα^\n",
      "\n"
     ]
    }
   ],
   "source": [
    "from class_macronizer import Macronizer\n",
    "\n",
    "macronizer = Macronizer()\n",
    "\n",
    "print('Case 1: paroxytone, short ultima')\n",
    "word = 'παπάπα^' # case 1\n",
    "word_after_accentuation_rules = macronizer.apply_accentuation_rules(word)\n",
    "print(word_after_accentuation_rules + '\\n')\n",
    "assert word_after_accentuation_rules == 'παπά^πα^'\n",
    "\n",
    "print('Case 2: paroxytone, long penultima')\n",
    "word = 'ά_α' # case 2\n",
    "word_after_accentuation_rules = macronizer.apply_accentuation_rules(word)\n",
    "assert word_after_accentuation_rules == 'ά_α_'\n",
    "print(word_after_accentuation_rules + '\\n')\n",
    "\n",
    "print('Case 3a: properispomenon')\n",
    "word = 'σωτῆρα' # case 3a\n",
    "word_after_accentuation_rules = macronizer.apply_accentuation_rules(word)\n",
    "assert word_after_accentuation_rules == 'σωτῆρα^'\n",
    "print(word_after_accentuation_rules + '\\n')\n",
    "\n",
    "print('Case 3b: proparoxytone')\n",
    "word = 'πάπαπα' # case 3b\n",
    "word_after_accentuation_rules = macronizer.apply_accentuation_rules(word)\n",
    "assert word_after_accentuation_rules == 'πάπαπα^'\n",
    "print(word_after_accentuation_rules + '\\n')"
   ]
  }
 ],
 "metadata": {
  "kernelspec": {
   "display_name": "Python 3",
   "language": "python",
   "name": "python3"
  },
  "language_info": {
   "codemirror_mode": {
    "name": "ipython",
    "version": 3
   },
   "file_extension": ".py",
   "mimetype": "text/x-python",
   "name": "python",
   "nbconvert_exporter": "python",
   "pygments_lexer": "ipython3",
   "version": "3.13.0"
  }
 },
 "nbformat": 4,
 "nbformat_minor": 2
}
