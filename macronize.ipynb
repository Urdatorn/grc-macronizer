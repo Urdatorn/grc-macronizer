{
 "cells": [
  {
   "cell_type": "code",
   "execution_count": 1,
   "metadata": {},
   "outputs": [
    {
     "name": "stdout",
     "output_type": "stream",
     "text": [
      "Batch processing time: 2.102749824523926 seconds\n",
      "λύω -> λῡ́ω\n",
      "ὕδασιν -> ῠ̔́δᾰσῐν\n",
      "ἱστάμεθα -> ῐ̔στᾰ́μεθᾰ\n",
      "ὕδωρ -> ὕδωρ\n"
     ]
    }
   ],
   "source": [
    "import re\n",
    "import time\n",
    "\n",
    "from grc_utils import has_ambiguous_dichrona_in_open_syllables\n",
    "from macronize import macronize, macronize_text\n",
    "\n",
    "\n",
    "test_words = ['λύω', 'ὕδασιν', 'ἱστάμεθα', 'ὕδωρ']\n",
    "\n",
    "start_time = time.time()\n",
    "batch_results = macronize(test_words, ifeellucky=True)\n",
    "end_time = time.time()\n",
    "print(f\"Batch processing time: {end_time - start_time} seconds\")\n",
    "\n",
    "for w in test_words:\n",
    "    print(f\"{w} -> {batch_results[w]}\")\n",
    "\n"
   ]
  },
  {
   "cell_type": "code",
   "execution_count": 2,
   "metadata": {},
   "outputs": [
    {
     "name": "stdout",
     "output_type": "stream",
     "text": [
      "Elapsed time: 1.87 seconds\n",
      "Macronized text:\n",
      "Δαρείου καὶ ῐ̔στᾰ́μεθᾰ Παρυσάτιδος γίγνονται παῖδες δῠ́ο, πρεσβῠ́τερος μὲν Ἀρταξέρξης, νεώτερος δὲ Κῦρος· ἐπεὶ δὲ ἠσθένει Δαρεῖος καὶ ῠ̔πώπτευε τελευτὴν τοῦ βῐ́ου, ἐβούλετο τὼ παῖδε ᾰ̓μφοτέρω πᾰρεῖναι. ὁ μὲν οὖν πρεσβῠ́τερος παρὼν ἐτύγχᾰνε· Κῦρον δὲ μετᾰπέμπεται ἀπὸ τῆς ἀρχῆς ἧς αὐτὸν σατράπην ἐποίησε, καὶ στρατηγὸν δὲ αὐτὸν ἀπέδειξε πᾰ́ντων ὅσοι ἐς Καστωλοῦ πεδίον ἁθροίζονται. ᾰ̓νᾰβαίνει οὖν ὁ Κῦρος λαβὼν Τισσαφέρνην ὡς φῐ́λον, καὶ τῶν Ἑλλήνων ἔχων ὁπλῑ́τᾱς ᾰ̓νέβη τρῐᾱκοσῐ́ους, ᾰ̓́ρχοντᾰ δὲ αὐτῶν Ξενίαν Παρράσιον.\n",
      "Stil ambiguous words:\n",
      "\n",
      "Δαρείου\n",
      "Παρυσάτιδος\n",
      "Ἀρταξέρξης\n",
      "Δαρεῖος\n",
      "παρὼν\n",
      "ἀπὸ\n",
      "σατράπην\n",
      "στρατηγὸν\n",
      "ἀπέδειξε\n",
      "λαβὼν\n",
      "Τισσαφέρνην\n",
      "Παρράσιον\n",
      "Disambiguated 77 words out of 89\n",
      "\n",
      "Macronization ratio: 0.8651685393258427\n"
     ]
    }
   ],
   "source": [
    "def words(text):\n",
    "    return re.findall(r'\\w+', text)\n",
    "\n",
    "def macronization_ratio_words(text):\n",
    "    fully_disambiguated = 0\n",
    "    for word in words(text):\n",
    "        if has_ambiguous_dichrona_in_open_syllables(word):\n",
    "            continue\n",
    "        fully_disambiguated += 1\n",
    "\n",
    "    print(f'Disambiguated {fully_disambiguated} words out of {len(words(text))}')\n",
    "\n",
    "    ratio = fully_disambiguated / len(words(text))\n",
    "    return ratio\n",
    "\n",
    "\n",
    "sentence = 'Δαρείου καὶ ἱστάμεθα Παρυσάτιδος γίγνονται παῖδες δύο, πρεσβύτερος μὲν Ἀρταξέρξης, νεώτερος δὲ Κῦρος· ἐπεὶ δὲ ἠσθένει Δαρεῖος καὶ ὑπώπτευε τελευτὴν τοῦ βίου, ἐβούλετο τὼ παῖδε ἀμφοτέρω παρεῖναι. ὁ μὲν οὖν πρεσβύτερος παρὼν ἐτύγχανε· Κῦρον δὲ μεταπέμπεται ἀπὸ τῆς ἀρχῆς ἧς αὐτὸν σατράπην ἐποίησε, καὶ στρατηγὸν δὲ αὐτὸν ἀπέδειξε πάντων ὅσοι ἐς Καστωλοῦ πεδίον ἁθροίζονται. ἀναβαίνει οὖν ὁ Κῦρος λαβὼν Τισσαφέρνην ὡς φίλον, καὶ τῶν Ἑλλήνων ἔχων ὁπλίτας ἀνέβη τριακοσίους, ἄρχοντα δὲ αὐτῶν Ξενίαν Παρράσιον.'\n",
    "\n",
    "macronized_sentence = macronize_text(sentence)\n",
    "print(f'Macronized text:\\n{macronized_sentence}')\n",
    "\n",
    "print(f'Stil ambiguous words:\\n')\n",
    "for word in words(macronized_sentence):\n",
    "    if has_ambiguous_dichrona_in_open_syllables(word):\n",
    "        print(word)    \n",
    "\n",
    "print(f'\\nMacronization ratio: {macronization_ratio_words(macronized_sentence)}')"
   ]
  },
  {
   "cell_type": "markdown",
   "metadata": {},
   "source": [
    "If not double checking baytones against oxytones, I get:\n",
    "\n",
    "> Elapsed time: 2.16 seconds\n",
    "Disambiguated 52714 words out of 62296\n",
    "\n",
    "> Macronization ratio: 0.8461859509438808\n"
   ]
  },
  {
   "cell_type": "code",
   "execution_count": null,
   "metadata": {},
   "outputs": [
    {
     "name": "stdout",
     "output_type": "stream",
     "text": [
      "Elapsed time: 2.14 seconds\n",
      "Disambiguated 52891 words out of 62321\n",
      "\n",
      "Macronization ratio: 0.8486866385327578\n"
     ]
    },
    {
     "ename": "NameError",
     "evalue": "name 'replace_acute_with_grave' is not defined",
     "output_type": "error",
     "traceback": [
      "\u001b[31m---------------------------------------------------------------------------\u001b[39m",
      "\u001b[31mNameError\u001b[39m                                 Traceback (most recent call last)",
      "\u001b[36mCell\u001b[39m\u001b[36m \u001b[39m\u001b[32mIn[3]\u001b[39m\u001b[32m, line 7\u001b[39m\n\u001b[32m      3\u001b[39m macronized_anabasis = macronize_text(anabasis)\n\u001b[32m      5\u001b[39m \u001b[38;5;28mprint\u001b[39m(\u001b[33mf\u001b[39m\u001b[33m'\u001b[39m\u001b[38;5;130;01m\\n\u001b[39;00m\u001b[33mMacronization ratio: \u001b[39m\u001b[38;5;132;01m{\u001b[39;00mmacronization_ratio_words(macronized_anabasis)\u001b[38;5;132;01m}\u001b[39;00m\u001b[33m'\u001b[39m)\n\u001b[32m----> \u001b[39m\u001b[32m7\u001b[39m macronized_anabasis = macronize_text(\u001b[43mreplace_acute_with_grave\u001b[49m(anabasis))\n\u001b[32m      9\u001b[39m \u001b[38;5;28mprint\u001b[39m(\u001b[33mf\u001b[39m\u001b[33m'\u001b[39m\u001b[38;5;130;01m\\n\u001b[39;00m\u001b[33mMacronization ratio after barytone substitution: \u001b[39m\u001b[38;5;132;01m{\u001b[39;00mmacronization_ratio_words(macronized_anabasis)\u001b[38;5;132;01m}\u001b[39;00m\u001b[33m'\u001b[39m)\n",
      "\u001b[31mNameError\u001b[39m: name 'replace_acute_with_grave' is not defined"
     ]
    }
   ],
   "source": [
    "from anabasis import anabasis\n",
    "\n",
    "macronized_anabasis = macronize_text(anabasis)\n",
    "\n",
    "print(f'\\nMacronization ratio: {macronization_ratio_words(macronized_anabasis)}')\n"
   ]
  }
 ],
 "metadata": {
  "kernelspec": {
   "display_name": "3.13.0",
   "language": "python",
   "name": "python3"
  },
  "language_info": {
   "codemirror_mode": {
    "name": "ipython",
    "version": 3
   },
   "file_extension": ".py",
   "mimetype": "text/x-python",
   "name": "python",
   "nbconvert_exporter": "python",
   "pygments_lexer": "ipython3",
   "version": "3.13.0"
  }
 },
 "nbformat": 4,
 "nbformat_minor": 2
}
