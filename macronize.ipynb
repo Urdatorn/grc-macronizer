{
 "cells": [
  {
   "cell_type": "code",
   "execution_count": 1,
   "metadata": {},
   "outputs": [
    {
     "name": "stdout",
     "output_type": "stream",
     "text": [
      "Batch processing time: 1.9914119243621826 seconds\n",
      "λύω -> λῡ́ω\n",
      "ὕδασιν -> ῠ̔́δᾰσῐν\n",
      "ἱστάμεθα -> ῐ̔στᾰ́μεθᾰ\n",
      "ὕδωρ -> ὕδωρ\n"
     ]
    }
   ],
   "source": [
    "import re\n",
    "import time\n",
    "\n",
    "from grc_utils import has_ambiguous_dichrona_in_open_syllables\n",
    "from macronize import macronize, macronize_text\n",
    "\n",
    "\n",
    "test_words = ['λύω', 'ὕδασιν', 'ἱστάμεθα', 'ὕδωρ']\n",
    "\n",
    "start_time = time.time()\n",
    "batch_results = macronize(test_words, ifeellucky=True)\n",
    "end_time = time.time()\n",
    "print(f\"Batch processing time: {end_time - start_time} seconds\")\n",
    "\n",
    "for w in test_words:\n",
    "    print(f\"{w} -> {batch_results[w]}\")\n",
    "\n"
   ]
  },
  {
   "cell_type": "code",
   "execution_count": null,
   "metadata": {},
   "outputs": [
    {
     "name": "stdout",
     "output_type": "stream",
     "text": [
      "Elapsed time: 2.14 seconds\n",
      "Macronized text:\n",
      "Δαρείου καὶ ῐ̔στᾰ́μεθᾰ Παρυσάτιδος γίγνονται παῖδες δῠ́ο, πρεσβῠ́τερος μὲν Ἀρταξέρξης, νεώτερος δὲ Κῦρος· ἐπεὶ δὲ ἠσθένει Δαρεῖος καὶ ῠ̔πώπτευε τελευτὴν τοῦ βῐ́ου, ἐβούλετο τὼ παῖδε ᾰ̓μφοτέρω πᾰρεῖναι. ὁ μὲν οὖν πρεσβῠ́τερος πᾰρών ἐτύγχᾰνε· Κῦρον δὲ μετᾰπέμπεται ἀπὸ τῆς ἀρχῆς ἧς αὐτὸν σατράπην ἐποίησε, καὶ στρατηγὸν δὲ αὐτὸν ἀπέδειξε πᾰ́ντων ὅσοι ἐς Καστωλοῦ πεδίον ἁθροίζονται. ᾰ̓νᾰβαίνει οὖν ὁ Κῦρος λαβὼν Τισσαφέρνην ὡς φῐ́λον, καὶ τῶν Ἑλλήνων ἔχων ὁπλῑ́τᾱς ᾰ̓νέβη τρῐᾱκοσῐ́ους, ᾰ̓́ρχοντᾰ δὲ αὐτῶν Ξενίαν Παρράσιον.\n",
      "Stil ambiguous words:\n",
      "\n",
      "Δαρείου\n",
      "Παρυσάτιδος\n",
      "Ἀρταξέρξης\n",
      "Δαρεῖος\n",
      "ἀπὸ\n",
      "σατράπην\n",
      "στρατηγὸν\n",
      "ἀπέδειξε\n",
      "λαβὼν\n",
      "Τισσαφέρνην\n",
      "Παρράσιον\n",
      "Disambiguated 78 words out of 89\n",
      "\n",
      "Macronization ratio: 0.8764044943820225\n"
     ]
    }
   ],
   "source": [
    "def words(text):\n",
    "    return re.findall(r'\\w+', text)\n",
    "\n",
    "def macronization_ratio_words(text):\n",
    "    fully_disambiguated = 0\n",
    "    for word in words(text):\n",
    "        if has_ambiguous_dichrona_in_open_syllables(word):\n",
    "            continue\n",
    "        fully_disambiguated += 1\n",
    "\n",
    "    print(f'Disambiguated {fully_disambiguated} words out of {len(words(text))}')\n",
    "\n",
    "    ratio = fully_disambiguated / len(words(text))\n",
    "    return ratio\n",
    "\n",
    "\n",
    "sentence = 'Δαρείου καὶ ἱστάμεθα Παρυσάτιδος γίγνονται παῖδες δύο, πρεσβύτερος μὲν Ἀρταξέρξης, νεώτερος δὲ Κῦρος· ἐπεὶ δὲ ἠσθένει Δαρεῖος καὶ ὑπώπτευε τελευτὴν τοῦ βίου, ἐβούλετο τὼ παῖδε ἀμφοτέρω παρεῖναι. ὁ μὲν οὖν πρεσβύτερος παρὼν ἐτύγχανε· Κῦρον δὲ μεταπέμπεται ἀπὸ τῆς ἀρχῆς ἧς αὐτὸν σατράπην ἐποίησε, καὶ στρατηγὸν δὲ αὐτὸν ἀπέδειξε πάντων ὅσοι ἐς Καστωλοῦ πεδίον ἁθροίζονται. ἀναβαίνει οὖν ὁ Κῦρος λαβὼν Τισσαφέρνην ὡς φίλον, καὶ τῶν Ἑλλήνων ἔχων ὁπλίτας ἀνέβη τριακοσίους, ἄρχοντα δὲ αὐτῶν Ξενίαν Παρράσιον.'\n",
    "\n",
    "macronized_sentence = macronize_text(sentence)\n",
    "print(f'Macronized text:\\n{macronized_sentence}')\n",
    "\n",
    "print(f'Stil ambiguous words:\\n')\n",
    "for word in words(macronized_sentence):\n",
    "    if has_ambiguous_dichrona_in_open_syllables(word):\n",
    "        print(word)    \n",
    "\n",
    "print(f'\\nMacronization ratio: {macronization_ratio_words(macronized_sentence)}')"
   ]
  }
 ],
 "metadata": {
  "kernelspec": {
   "display_name": "3.13.0",
   "language": "python",
   "name": "python3"
  },
  "language_info": {
   "codemirror_mode": {
    "name": "ipython",
    "version": 3
   },
   "file_extension": ".py",
   "mimetype": "text/x-python",
   "name": "python",
   "nbconvert_exporter": "python",
   "pygments_lexer": "ipython3",
   "version": "3.13.0"
  }
 },
 "nbformat": 4,
 "nbformat_minor": 2
}
