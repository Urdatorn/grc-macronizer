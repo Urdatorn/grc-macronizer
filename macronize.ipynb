{
 "cells": [
  {
   "cell_type": "code",
   "execution_count": null,
   "metadata": {},
   "outputs": [
    {
     "name": "stdout",
     "output_type": "stream",
     "text": [
      "Batch processing time: 1.9832110404968262 seconds\n",
      "λύω -> λῡ́ω\n",
      "ὕδασιν -> ῠ̔́δᾰσῐν\n",
      "ἱστάμεθα -> ῐ̔στᾰ́μεθᾰ\n",
      "ὕδωρ -> ὕδωρ\n",
      "\n",
      "Δαρείου καὶ ἱστάμεθα Παρυσάτιδος γίγνονται παῖδες δύο, πρεσβύτερος μὲν Ἀρταξέρξης, νεώτερος δὲ Κῦρος· ἐπεὶ δὲ ἠσθένει Δαρεῖος καὶ ὑπώπτευε τελευτὴν τοῦ βίου, ἐβούλετο τὼ παῖδε ἀμφοτέρω παρεῖναι. ὁ μὲν οὖν πρεσβύτερος παρὼν ἐτύγχανε· Κῦρον δὲ μεταπέμπεται ἀπὸ τῆς ἀρχῆς ἧς αὐτὸν σατράπην ἐποίησε, καὶ στρατηγὸν δὲ αὐτὸν ἀπέδειξε πάντων ὅσοι ἐς Καστωλοῦ πεδίον ἁθροίζονται. ἀναβαίνει οὖν ὁ Κῦρος λαβὼν Τισσαφέρνην ὡς φίλον, καὶ τῶν Ἑλλήνων ἔχων ὁπλίτας ἀνέβη τριακοσίους, ἄρχοντα δὲ αὐτῶν Ξενίαν Παρράσιον.\n",
      "Elapsed time: 1.89 seconds\n",
      "Macronized text:\n",
      "Δαρείου καὶ ῐ̔στᾰ́μεθᾰ Παρυσάτιδος γίγνονται παῖδες δῠ́ο, πρεσβῠ́τερος μὲν Ἀρταξέρξης, νεώτερος δὲ Κῦρος· ἐπεὶ δὲ ἠσθένει Δαρεῖος καὶ ῠ̔πώπτευε τελευτὴν τοῦ βῐ́ου, ἐβούλετο τὼ παῖδε ᾰ̓μφοτέρω πᾰρεῖναι. ὁ μὲν οὖν πρεσβῠ́τερος παρὼν ἐτύγχᾰνε· Κῦρον δὲ μετᾰπέμπεται ἀπὸ τῆς ἀρχῆς ἧς αὐτὸν σατράπην ἐποίησε, καὶ στρατηγὸν δὲ αὐτὸν ἀπέδειξε πᾰ́ντων ὅσοι ἐς Καστωλοῦ πεδίον ἁθροίζονται. ᾰ̓νᾰβαίνει οὖν ὁ Κῦρος λαβὼν Τισσαφέρνην ὡς φῐ́λον, καὶ τῶν Ἑλλήνων ἔχων ὁπλῑ́τᾱς ᾰ̓νέβη τρῐᾱκοσῐ́ους, ᾰ̓́ρχοντᾰ δὲ αὐτῶν Ξενίαν Παρράσιον.\n"
     ]
    }
   ],
   "source": [
    "import re\n",
    "import time\n",
    "\n",
    "from grc_utils import has_ambiguous_dichrona_in_open_syllables\n",
    "from macronize import macronize, macronize_text\n",
    "\n",
    "\n",
    "test_words = ['λύω', 'ὕδασιν', 'ἱστάμεθα', 'ὕδωρ']\n",
    "\n",
    "start_time = time.time()\n",
    "batch_results = macronize(test_words, ifeellucky=True)\n",
    "end_time = time.time()\n",
    "print(f\"Batch processing time: {end_time - start_time} seconds\")\n",
    "\n",
    "for w in test_words:\n",
    "    print(f\"{w} -> {batch_results[w]}\")\n",
    "\n",
    "sentence = 'Δαρείου καὶ ἱστάμεθα Παρυσάτιδος γίγνονται παῖδες δύο, πρεσβύτερος μὲν Ἀρταξέρξης, νεώτερος δὲ Κῦρος· ἐπεὶ δὲ ἠσθένει Δαρεῖος καὶ ὑπώπτευε τελευτὴν τοῦ βίου, ἐβούλετο τὼ παῖδε ἀμφοτέρω παρεῖναι. ὁ μὲν οὖν πρεσβύτερος παρὼν ἐτύγχανε· Κῦρον δὲ μεταπέμπεται ἀπὸ τῆς ἀρχῆς ἧς αὐτὸν σατράπην ἐποίησε, καὶ στρατηγὸν δὲ αὐτὸν ἀπέδειξε πάντων ὅσοι ἐς Καστωλοῦ πεδίον ἁθροίζονται. ἀναβαίνει οὖν ὁ Κῦρος λαβὼν Τισσαφέρνην ὡς φίλον, καὶ τῶν Ἑλλήνων ἔχων ὁπλίτας ἀνέβη τριακοσίους, ἄρχοντα δὲ αὐτῶν Ξενίαν Παρράσιον.'\n",
    "\n",
    "print(f'\\n{sentence}')\n",
    "print(f'Macronized text:\\n{macronize_text(sentence)}')\n",
    "\n",
    "def words(text):\n",
    "    if not re.search(r'\\s', text):\n",
    "        return text\n",
    "    else:\n",
    "        # There's whitespace: split into tokens\n",
    "        # Tokens: \n",
    "        # - \\w+ matches words\n",
    "        # - [^\\w\\s]+ matches punctuation\n",
    "        # - \\s+ matches whitespace\n",
    "        tokens = re.findall(r'\\w+|[^\\w\\s]+|\\s+', text)\n",
    "\n",
    "    # Extract just the words to macronize\n",
    "    return [t for t in tokens if re.match(r'^\\w+$', t)]"
   ]
  }
 ],
 "metadata": {
  "kernelspec": {
   "display_name": "3.13.0",
   "language": "python",
   "name": "python3"
  },
  "language_info": {
   "codemirror_mode": {
    "name": "ipython",
    "version": 3
   },
   "file_extension": ".py",
   "mimetype": "text/x-python",
   "name": "python",
   "nbconvert_exporter": "python",
   "pygments_lexer": "ipython3",
   "version": "3.13.0"
  }
 },
 "nbformat": 4,
 "nbformat_minor": 2
}
