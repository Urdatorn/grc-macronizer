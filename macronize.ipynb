{
 "cells": [
  {
   "cell_type": "markdown",
   "metadata": {},
   "source": [
    "# The Macronizer Class\n",
    "\n",
    "A new macronizer object takes a range of initialization variables, all of them optional. Only the first two are intended to be changed by the user:\n",
    "\n",
    "\n",
    "- `macronize_everything=True`, determines whether to mark macrons whose length is inferable from accent rules (should be False for human audience)\n",
    "- `unicode=False`, determines whether output is human-friendly unicode combining diacritics or machine-friendly non-combining carets and underscores. Evaluation methods are only available for the latter.\n",
    "\n",
    "Here's the simplest case possible:"
   ]
  },
  {
   "cell_type": "code",
   "execution_count": null,
   "metadata": {},
   "outputs": [
    {
     "name": "stderr",
     "output_type": "stream",
     "text": [
      "                                                            "
     ]
    },
    {
     "name": "stdout",
     "output_type": "stream",
     "text": [
      "\n",
      "Macronization took 0.02 seconds\n",
      "Results: ἀ^ά_α^τος, ἀ^γα^θὸς, κα^λὸς, ἀ^νήρ, νεα_νί^α_ς\n"
     ]
    },
    {
     "name": "stderr",
     "output_type": "stream",
     "text": [
      "\r"
     ]
    }
   ],
   "source": [
    "from class_macronizer import Macronizer\n",
    "\n",
    "macronizer = Macronizer()\n",
    "\n",
    "input = '''ἀάατος, ἀγαθὸς, καλὸς, ἀνήρ, νεανίας'''\n",
    "output = macronizer.macronize_text(input)\n",
    "\n",
    "print(f'Results: {output}')"
   ]
  },
  {
   "cell_type": "markdown",
   "metadata": {},
   "source": [
    "Let's try it with unicode diacritics. This is a useful option for settings where there is access to fonts with so-called OpenType ligature instructions like [New Athena](https://github.com/SteelWagstaff/new-athena-unicode), meaning fonts that have prepared precomposed glyphs for adding longa or brevia to Greek letters that already have other diacritics. \n",
    "\n",
    "**Important**: this option is only for printing results; to apply any of the evaluation methods, you will need to turn unicode off."
   ]
  },
  {
   "cell_type": "code",
   "execution_count": 2,
   "metadata": {},
   "outputs": [
    {
     "name": "stderr",
     "output_type": "stream",
     "text": [
      "                                                            "
     ]
    },
    {
     "name": "stdout",
     "output_type": "stream",
     "text": [
      "\n",
      "Macronization took 0.00 seconds\n",
      "Results: ἀ̆ά̄ᾰτος, ἀ̆γᾰθὸς, κᾰλὸς, ἀ̆νήρ, νεᾱνί̆ᾱς\n"
     ]
    },
    {
     "name": "stderr",
     "output_type": "stream",
     "text": [
      "\r"
     ]
    }
   ],
   "source": [
    "macronizer = Macronizer(unicode=True)\n",
    "\n",
    "output = macronizer.macronize_text(input)\n",
    "print(f'Results: {output}')"
   ]
  },
  {
   "cell_type": "markdown",
   "metadata": {},
   "source": [
    "We can evaluate the results with the method `macronization_ratio`, which makes some prints and returns a ratio. Since proper names are especially prone to have ambivalent dichrona, there is the option to exclude them from the statistic by using `count_proper_names=False`.\n",
    "\n",
    "This time let's try a longer input. Have patience if you include the evaluation, as it is O(n) and takes 25 extra seconds on my machine."
   ]
  },
  {
   "cell_type": "code",
   "execution_count": 5,
   "metadata": {},
   "outputs": [
    {
     "name": "stdout",
     "output_type": "stream",
     "text": [
      "Input is 57178 words\n"
     ]
    },
    {
     "name": "stderr",
     "output_type": "stream",
     "text": [
      "                                                                               \r"
     ]
    },
    {
     "name": "stdout",
     "output_type": "stream",
     "text": [
      "\n",
      "Macronization took 3.94 seconds\n",
      "\n",
      "Counting all dichrona...\n"
     ]
    },
    {
     "name": "stderr",
     "output_type": "stream",
     "text": [
      "                                                                                             "
     ]
    },
    {
     "name": "stdout",
     "output_type": "stream",
     "text": [
      "Dichrona in open syllables before: 61761\n",
      "Unmacronized dichrona in open syllables left: 47118\n",
      "\n",
      "Evaluation took 25.29 seconds\n",
      "Difference: 14643\n",
      "0.2370913683392432\n"
     ]
    },
    {
     "name": "stderr",
     "output_type": "stream",
     "text": [
      "\r"
     ]
    }
   ],
   "source": [
    "from class_macronizer import Macronizer\n",
    "from tests.anabasis import anabasis\n",
    "\n",
    "macronizer = Macronizer()\n",
    "\n",
    "words = anabasis.split()\n",
    "print(f'Input is {len(words)} words')\n",
    "\n",
    "input = anabasis\n",
    "output = macronizer.macronize_text(input)\n",
    "with open('tests/anabasis_macronized.txt', 'w') as f:\n",
    "    f.write(output)\n",
    "\n",
    "ratio = macronizer.macronization_ratio(input, output)\n",
    "print(ratio)\n"
   ]
  }
 ],
 "metadata": {
  "kernelspec": {
   "display_name": "Python 3",
   "language": "python",
   "name": "python3"
  },
  "language_info": {
   "codemirror_mode": {
    "name": "ipython",
    "version": 3
   },
   "file_extension": ".py",
   "mimetype": "text/x-python",
   "name": "python",
   "nbconvert_exporter": "python",
   "pygments_lexer": "ipython3",
   "version": "3.13.0"
  }
 },
 "nbformat": 4,
 "nbformat_minor": 2
}
