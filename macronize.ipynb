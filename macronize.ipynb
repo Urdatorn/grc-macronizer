{
 "cells": [
  {
   "cell_type": "code",
   "execution_count": 1,
   "metadata": {},
   "outputs": [
    {
     "name": "stdout",
     "output_type": "stream",
     "text": [
      "Batch processing time: 2.035094976425171 seconds\n",
      "λύω -> λῡ́ω\n",
      "ὕδασιν -> ῠ̔́δᾰσῐν\n",
      "ἱστάμεθα -> ῐ̔στᾰ́μεθᾰ\n",
      "ὕδωρ -> ὕδωρ\n"
     ]
    }
   ],
   "source": [
    "import re\n",
    "import time\n",
    "\n",
    "from grc_utils import has_ambiguous_dichrona_in_open_syllables\n",
    "from macronize import macronize, macronize_text\n",
    "\n",
    "\n",
    "test_words = ['λύω', 'ὕδασιν', 'ἱστάμεθα', 'ὕδωρ']\n",
    "\n",
    "start_time = time.time()\n",
    "batch_results = macronize(test_words, ifeellucky=True)\n",
    "end_time = time.time()\n",
    "print(f\"Batch processing time: {end_time - start_time} seconds\")\n",
    "\n",
    "for w in test_words:\n",
    "    print(f\"{w} -> {batch_results[w]}\")\n",
    "\n"
   ]
  },
  {
   "cell_type": "code",
   "execution_count": 21,
   "metadata": {},
   "outputs": [
    {
     "name": "stdout",
     "output_type": "stream",
     "text": [
      "Elapsed time: 1.96 seconds\n",
      "Macronized text:\n",
      "Δαρείου καὶ ῐ̔στᾰ́μεθᾰ Παρυσάτιδος γίγνονται παῖδες δῠ́ο, πρεσβῠ́τερος μὲν Ἀρταξέρξης, νεώτερος δὲ Κῦρος· ἐπεὶ δὲ ἠσθένει Δαρεῖος καὶ ῠ̔πώπτευε τελευτὴν τοῦ βῐ́ου, ἐβούλετο τὼ παῖδε ᾰ̓μφοτέρω πᾰρεῖναι. ὁ μὲν οὖν πρεσβῠ́τερος πᾰρὼν ἐτύγχᾰνε· Κῦρον δὲ μετᾰπέμπεται ἀπὸ τῆς ἀρχῆς ἧς αὐτὸν σατράπην ἐποίησε, καὶ στρατηγὸν δὲ αὐτὸν ἀπέδειξε πᾰ́ντων ὅσοι ἐς Καστωλοῦ πεδίον ἁθροίζονται. ᾰ̓νᾰβαίνει οὖν ὁ Κῦρος λᾰβὼν Τισσαφέρνην ὡς φῐ́λον, καὶ τῶν Ἑλλήνων ἔχων ὁπλῑ́τᾱς ᾰ̓νέβη τρῐᾱκοσῐ́ους, ᾰ̓́ρχοντᾰ δὲ αὐτῶν Ξενίαν Παρράσιον.\n",
      "Stil ambiguous words:\n",
      "\n",
      "Δαρείου\n",
      "Παρυσάτιδος\n",
      "Ἀρταξέρξης\n",
      "Δαρεῖος\n",
      "ἀπὸ\n",
      "σατράπην\n",
      "στρατηγὸν\n",
      "ἀπέδειξε\n",
      "Τισσαφέρνην\n",
      "Παρράσιον\n",
      "\n",
      "Disambiguated 79 words out of 89\n",
      "\n",
      "Macronization ratio: 0.8876404494382022\n",
      "\n",
      "Disambiguated 73 words out of 77\n",
      "\n",
      "Macronization ratio excl. proper names: 0.948051948051948\n"
     ]
    }
   ],
   "source": [
    "from proper_names import proper_names\n",
    "\n",
    "def get_words(text):\n",
    "    return re.findall(r'\\w+', text)\n",
    "\n",
    "def remove_proper_names(text):\n",
    "    # Build a regex pattern that matches whole words from the set\n",
    "    pattern = r'\\b(?:' + '|'.join(re.escape(name) for name in proper_names) + r')\\b'\n",
    "\n",
    "    # Remove names, handling extra spaces that might appear\n",
    "    cleaned_text = re.sub(pattern, '', text).strip()\n",
    "    cleaned_text = re.sub(r'\\s+', ' ', cleaned_text)  # Normalize spaces\n",
    "\n",
    "    return cleaned_text\n",
    "\n",
    "def macronization_ratio_words(text, proper_names=True):\n",
    "    if not proper_names:\n",
    "        text = remove_proper_names(text)\n",
    "\n",
    "    words = get_words(text)\n",
    "\n",
    "    fully_disambiguated = 0\n",
    "    for word in words:\n",
    "        if has_ambiguous_dichrona_in_open_syllables(word):\n",
    "            continue\n",
    "        fully_disambiguated += 1\n",
    "\n",
    "    print(f'\\nDisambiguated {fully_disambiguated} words out of {len(words)}')\n",
    "\n",
    "    ratio = fully_disambiguated / len(words)\n",
    "    return ratio\n",
    "\n",
    "sentence = 'Δαρείου καὶ ἱστάμεθα Παρυσάτιδος γίγνονται παῖδες δύο, πρεσβύτερος μὲν Ἀρταξέρξης, νεώτερος δὲ Κῦρος· ἐπεὶ δὲ ἠσθένει Δαρεῖος καὶ ὑπώπτευε τελευτὴν τοῦ βίου, ἐβούλετο τὼ παῖδε ἀμφοτέρω παρεῖναι. ὁ μὲν οὖν πρεσβύτερος παρὼν ἐτύγχανε· Κῦρον δὲ μεταπέμπεται ἀπὸ τῆς ἀρχῆς ἧς αὐτὸν σατράπην ἐποίησε, καὶ στρατηγὸν δὲ αὐτὸν ἀπέδειξε πάντων ὅσοι ἐς Καστωλοῦ πεδίον ἁθροίζονται. ἀναβαίνει οὖν ὁ Κῦρος λαβὼν Τισσαφέρνην ὡς φίλον, καὶ τῶν Ἑλλήνων ἔχων ὁπλίτας ἀνέβη τριακοσίους, ἄρχοντα δὲ αὐτῶν Ξενίαν Παρράσιον.'\n",
    "\n",
    "macronized_sentence = macronize_text(sentence)\n",
    "print(f'Macronized text:\\n{macronized_sentence}')\n",
    "\n",
    "print(f'Stil ambiguous words:\\n')\n",
    "for word in get_words(macronized_sentence):\n",
    "    if has_ambiguous_dichrona_in_open_syllables(word):\n",
    "        print(word)    \n",
    "\n",
    "print(f'\\nMacronization ratio: {macronization_ratio_words(macronized_sentence)}')\n",
    "print(f'\\nMacronization ratio excl. proper names: {macronization_ratio_words(macronized_sentence, proper_names=False)}')"
   ]
  },
  {
   "cell_type": "markdown",
   "metadata": {},
   "source": [
    "If not double checking baytones against oxytones, I get:\n",
    "\n",
    "> Elapsed time: 2.16 seconds\n",
    "Disambiguated 52714 words out of 62296\n",
    "\n",
    "> Macronization ratio: 0.8461859509438808\n"
   ]
  },
  {
   "cell_type": "code",
   "execution_count": null,
   "metadata": {},
   "outputs": [
    {
     "name": "stdout",
     "output_type": "stream",
     "text": [
      "Elapsed time: 2.34 seconds\n",
      "Disambiguated 53730 words out of 62803\n",
      "\n",
      "Macronization ratio: 0.8555323790264796\n",
      "Disambiguated 51952 words out of 60005\n",
      "\n",
      "Macronization ratio excl. proper names: 0.865794517123573\n"
     ]
    }
   ],
   "source": [
    "from anabasis import anabasis\n",
    "\n",
    "macronized_anabasis = macronize_text(anabasis)\n",
    "\n",
    "print(f'\\nMacronization ratio: {macronization_ratio_words(macronized_anabasis)}')\n",
    "print(f'\\nMacronization ratio excl. proper names: {macronization_ratio_words(macronized_anabasis, proper_names=False)}')\n",
    "\n",
    "with open('anabasis_macronized.py', 'w', encoding='utf-8') as file:\n",
    "    file.write(f\"anabasis_macronized = '''{macronized_anabasis}'''\")\n"
   ]
  },
  {
   "cell_type": "code",
   "execution_count": 1,
   "metadata": {},
   "outputs": [
    {
     "name": "stdout",
     "output_type": "stream",
     "text": [
      "Elapsed time: 1.93 seconds\n",
      "\n",
      "EVALUATION\n",
      "******************\n",
      "\n",
      "Input text:\n",
      "ἀγαθὸς, καλὸς, ἀνήρ...\n",
      "Elapsed time: 2.04 seconds\n",
      "\n",
      "Macronized text:\n",
      "ἀ^γα^θὸς, κα^λὸς, ἀνήρ...\n",
      "\n",
      "Disambiguated 6 words out of 10 (including proper names)\n",
      "\n",
      "Macronization ratio: 0.60\n",
      "\n",
      "Disambiguated 6 words out of 10 (excluding proper names)\n",
      "\n",
      "Macronization ratio (no proper names): 0.60\n"
     ]
    }
   ],
   "source": [
    "from class_macronizer import Macronizer\n",
    "\n",
    "input = '''ἀγαθὸς, καλὸς, ἀνήρ'''\n",
    "\n",
    "macronizer = Macronizer(unicode=False)            \n",
    "output_unicode = macronizer.macronize_text(input)\n",
    "macronizer.print_evaluation(input)\n",
    "\n",
    "\n",
    "#macronizer_markup = Macronizer()\n",
    "#output_markup = macronizer_markup.macronize_text(input)\n",
    "\n"
   ]
  }
 ],
 "metadata": {
  "kernelspec": {
   "display_name": "3.13.0",
   "language": "python",
   "name": "python3"
  },
  "language_info": {
   "codemirror_mode": {
    "name": "ipython",
    "version": 3
   },
   "file_extension": ".py",
   "mimetype": "text/x-python",
   "name": "python",
   "nbconvert_exporter": "python",
   "pygments_lexer": "ipython3",
   "version": "3.13.0"
  }
 },
 "nbformat": 4,
 "nbformat_minor": 2
}
