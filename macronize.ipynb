{
 "cells": [
  {
   "cell_type": "markdown",
   "metadata": {},
   "source": [
    "# The Macronizer Class\n",
    "\n",
    "A new macronizer object takes a range of initialization variables, all of them optional. Only the first two are intended to be changed by the user:\n",
    "\n",
    "\n",
    "- `macronize_everything=True`, determines whether to mark macrons whose length is inferable from accent rules (should be False for a student audience)\n",
    "- `unicode=False`, determines whether output is human-friendly unicode combining diacritics or machine-friendly non-combining carets and underscores. Evaluation methods are only available for the latter.\n",
    "\n",
    "When the aim is to create a training corpus, no defaults will ever have to be changed. Here's the simplest case possible:"
   ]
  },
  {
   "cell_type": "code",
   "execution_count": 1,
   "metadata": {},
   "outputs": [
    {
     "name": "stderr",
     "output_type": "stream",
     "text": [
      "Macronizing tokens ☕️: 100%|██████████| 5/5 [00:00<00:00, 666.29it/s]\n",
      "                                                            "
     ]
    },
    {
     "name": "stdout",
     "output_type": "stream",
     "text": [
      "###### STATS ######\n",
      "Dichrona in open syllables before: \t10\n",
      "Unmacronized dichrona in open syllables left: \t0\n",
      "\n",
      "\u001b[32m10\u001b[0m dichrona macronized.\n",
      "\n",
      "Macronization ratio: \u001b[32m100.00%\u001b[0m\n",
      "Results: ἀ^ά_α^τος, ἀ^γα^θὸς, κα^λὸς, ἀ^νήρ, νεα_νί^α_ς\n"
     ]
    },
    {
     "name": "stderr",
     "output_type": "stream",
     "text": [
      "\r"
     ]
    }
   ],
   "source": [
    "from class_macronizer import Macronizer\n",
    "\n",
    "macronizer = Macronizer()\n",
    "\n",
    "input = '''ἀάατος, ἀγαθὸς, καλὸς, ἀνήρ, νεανίας'''\n",
    "output = macronizer.macronize(input)\n",
    "\n",
    "print(f'Results: {output}')"
   ]
  },
  {
   "cell_type": "markdown",
   "metadata": {},
   "source": [
    "Now let's try a longer input. Below I have loaded in all of Xenophon's *Anabasis* as one Python string of 359 857 characters. I also show a useful function to colour print the output. However, since the jupyter window would crash if forced to print and render the entirety of this output, I only print the first ten lines.\n",
    "\n",
    "Note that this takes close to two minutes on my MacBook, with most of the computation dedicated to reintegrating the list of macronized words into the original text in a careful way. "
   ]
  },
  {
   "cell_type": "code",
   "execution_count": 3,
   "metadata": {},
   "outputs": [
    {
     "name": "stderr",
     "output_type": "stream",
     "text": [
      "Macronizing tokens ☕️: 100%|██████████| 21864/21864 [00:16<00:00, 1317.02it/s]\n",
      "                                                                               \r"
     ]
    },
    {
     "name": "stdout",
     "output_type": "stream",
     "text": [
      "###### STATS ######\n",
      "Dichrona in open syllables before: \t29729\n",
      "Unmacronized dichrona in open syllables left: \t8894\n",
      "\n",
      "\u001b[32m20835\u001b[0m dichrona macronized.\n",
      "\n",
      "Macronization ratio: \u001b[32m70.08%\u001b[0m\n",
      "Δ\u001b[32mα\u001b[0m_ρείου καὶ Π\u001b[32mα\u001b[0m^ρ\u001b[32mυ\u001b[0m^σ\u001b[32mά\u001b[0m_τ\u001b[32mι\u001b[0m^δος γίγνονται παῖδες δ\u001b[32mύ\u001b[0m^ο, πρεσβ\u001b[32mύ\u001b[0m^τερος μὲν Ἀρταξέρξης, νεώτερος δὲ Κῦρος· ἐπεὶ δὲ ἠσθένει Δ\u001b[32mα\u001b[0m_ρεῖος καὶ \u001b[32mὑ\u001b[0m^πώπτευε τελευτὴν τοῦ β\u001b[32mί\u001b[0m^ου, ἐβούλετο τὼ παῖδε ἀμφοτέρω π\u001b[32mα\u001b[0m^ρεῖναι\n",
      "ὁ μὲν οὖν πρεσβ\u001b[32mύ\u001b[0m^τερος π\u001b[32mα\u001b[0m^ρὼν ἐτύγχ\u001b[32mα\u001b[0m^νε· Κῦρον δὲ μετ\u001b[32mα\u001b[0m^πέμπεται \u001b[32mἀ\u001b[0m^πὸ τῆς ἀρχῆς ἧς αὐτὸν σατρ\u001b[31mά\u001b[0mπην ἐποίησε, καὶ στρ\u001b[32mα\u001b[0m^τηγὸν δὲ αὐτὸν \u001b[31mἀ\u001b[0mπέδειξε πάντων ὅσοι ἐς Καστωλοῦ πεδ\u001b[32mί\u001b[0m^ον ἁθροίζονται\n",
      "\u001b[32mἀ\u001b[0m^ν\u001b[32mα\u001b[0m^βαίνει οὖν ὁ Κῦρος λ\u001b[32mα\u001b[0m^βὼν Τισσ\u001b[32mα\u001b[0m^φέρνην ὡς φ\u001b[32mί\u001b[0m^λον, καὶ τῶν Ἑλλήνων ἔχων ὁπλ\u001b[32mί\u001b[0m_τ\u001b[32mα\u001b[0m_ς \u001b[32mἀ\u001b[0m^νέβη τρ\u001b[32mι\u001b[0m^\u001b[32mα\u001b[0m_κοσ\u001b[32mί\u001b[0m^ους, \u001b[32mἄ\u001b[0m^ρχοντ\u001b[32mα\u001b[0m^ δὲ αὐτῶν Ξεν\u001b[32mί\u001b[0m^\u001b[32mα\u001b[0m_ν Παρρ\u001b[31mά\u001b[0mσ\u001b[31mι\u001b[0mον\n",
      "ἐπεὶ δὲ ἐτελεύτησε Δ\u001b[32mα\u001b[0m_ρεῖος καὶ κ\u001b[32mα\u001b[0m^τέστη εἰς τὴν β\u001b[32mα\u001b[0m^σ\u001b[32mι\u001b[0m^λεί\u001b[32mα\u001b[0m_ν Ἀρταξέρξης, Τισσ\u001b[32mα\u001b[0m^φέρνης δ\u001b[31mι\u001b[0m\u001b[31mα\u001b[0mβ\u001b[32mά\u001b[0m^λλει τὸν Κῦρον πρὸς τὸν \u001b[32mἀ\u001b[0m^δελφὸν ὡς ἐπ\u001b[32mι\u001b[0m^βουλεύοι αὐτῷ\n",
      "ὁ δὲ πείθεται καὶ σ\u001b[32mυ\u001b[0m^λλ\u001b[32mα\u001b[0m^μβ\u001b[32mά\u001b[0m^νει Κῦρον ὡς \u001b[31mἀ\u001b[0mποκτενῶν· ἡ δὲ μήτηρ ἐξαιτησ\u001b[31mα\u001b[0mμένη αὐτὸν \u001b[32mἀ\u001b[0m^ποπέμπει π\u001b[32mά\u001b[0m^λ\u001b[32mι\u001b[0m^ν ἐπ\u001b[32mὶ\u001b[0m^ τὴν ἀρχήν\n",
      "ὁ δ' ὡς \u001b[32mἀ\u001b[0m^πῆλθε κ\u001b[32mι\u001b[0m^νδ\u001b[32mυ\u001b[0m_νεύσ\u001b[32mα\u001b[0m_ς καὶ \u001b[31mἀ\u001b[0mτ\u001b[32mι\u001b[0m_μ\u001b[32mα\u001b[0m^σθείς, βουλεύεται ὅπως μήποτε ἔτ\u001b[32mι\u001b[0m^ ἔσται ἐπ\u001b[32mὶ\u001b[0m^ τῷ \u001b[32mἀ\u001b[0m^δελφῷ, ἀλλ\u001b[32mά\u001b[0m^, ἢν δ\u001b[32mύ\u001b[0m_νηται, β\u001b[32mα\u001b[0m^σ\u001b[32mι\u001b[0m^λεύσει ἀντ' ἐκείνου\n",
      "Π\u001b[32mα\u001b[0m^ρ\u001b[32mύ\u001b[0m^σ\u001b[32mα\u001b[0m_τ\u001b[32mι\u001b[0m^ς μὲν δὴ ἡ μήτηρ \u001b[32mὑ\u001b[0m^πῆρχε τῷ Κ\u001b[32mύ\u001b[0m_ρῳ, φ\u001b[32mι\u001b[0m^λοῦσ\u001b[32mα\u001b[0m^ αὐτὸν μᾶλλον ἢ τὸν β\u001b[32mα\u001b[0m^σ\u001b[32mι\u001b[0m^λεύοντ\u001b[32mα\u001b[0m^ Ἀρταξέρξην\n",
      "ὅστ\u001b[32mι\u001b[0m^ς δ' \u001b[31mἀ\u001b[0mφ\u001b[32mι\u001b[0m_κνεῖτο τῶν π\u001b[32mα\u001b[0m^ρ\u001b[32mὰ\u001b[0m^  β\u001b[31mα\u001b[0mσ\u001b[31mι\u001b[0mλέως πρὸς αὐτὸν π\u001b[32mά\u001b[0m^ντ\u001b[32mα\u001b[0m^ς οὕτω δ\u001b[31mι\u001b[0m\u001b[31mα\u001b[0mτ\u001b[31mι\u001b[0mθεὶς \u001b[32mἀ\u001b[0m^πεπέμπετο ὥστε αὐτῷ μᾶλλον φ\u001b[32mί\u001b[0m^λους εἶναι ἢ β\u001b[31mα\u001b[0mσ\u001b[31mι\u001b[0mλεῖ\n",
      "καὶ τῶν π\u001b[31mα\u001b[0mρ' ἑαυτῷ δὲ β\u001b[32mα\u001b[0m^ρβ\u001b[32mά\u001b[0m^ρων ἐπεμελεῖτο ὡς πολεμεῖν τε \u001b[32mἱ\u001b[0m^κ\u001b[32mα\u001b[0m^νοὶ εἴησ\u001b[32mα\u001b[0m^ν καὶ εὐνο\u001b[31mϊ\u001b[0mκῶς ἔχοιεν αὐτῷ\n",
      "τὴν δὲ Ἑλλην\u001b[32mι\u001b[0m^κὴν δ\u001b[32mύ\u001b[0m^ν\u001b[32mα\u001b[0m^μ\u001b[32mι\u001b[0m^ν ἥθροιζεν ὡς μ\u001b[31mά\u001b[0mλιστ\u001b[32mα\u001b[0m^ ἐδ\u001b[32mύ\u001b[0m^ν\u001b[32mα\u001b[0m^το ἐπικρυπτόμενος, ὅπως ὅτ\u001b[32mι\u001b[0m^ \u001b[31mἀ\u001b[0mπ\u001b[31mα\u001b[0mρασκευότ\u001b[31mα\u001b[0mτον λ\u001b[32mά\u001b[0m^βοι β\u001b[32mα\u001b[0m^σ\u001b[32mι\u001b[0m^λέ\u001b[32mα\u001b[0m_\n"
     ]
    }
   ],
   "source": [
    "from class_macronizer import Macronizer\n",
    "from tests.anabasis import anabasis\n",
    "from grc_utils import colour_dichrona_in_open_syllables\n",
    "\n",
    "macronizer = Macronizer()\n",
    "\n",
    "input = anabasis\n",
    "output = macronizer.macronize(input)\n",
    "\n",
    "for line in output.split('. ')[:10]:\n",
    "    print(colour_dichrona_in_open_syllables(line))\n"
   ]
  },
  {
   "cell_type": "markdown",
   "metadata": {},
   "source": [
    "## Sidenotes\n",
    "\n",
    "- As you saw, the stats method returns a macronization ratio. Since proper names are especially prone to have ambivalent dichrona, there is the option to exclude them from the statistic by using `count_proper_names=False`. In a prose context, names may contribute to giving an unnecessarily bad impression of the degree of macronization."
   ]
  }
 ],
 "metadata": {
  "kernelspec": {
   "display_name": "odycy",
   "language": "python",
   "name": "python3"
  },
  "language_info": {
   "codemirror_mode": {
    "name": "ipython",
    "version": 3
   },
   "file_extension": ".py",
   "mimetype": "text/x-python",
   "name": "python",
   "nbconvert_exporter": "python",
   "pygments_lexer": "ipython3",
   "version": "3.12.2"
  }
 },
 "nbformat": 4,
 "nbformat_minor": 2
}
