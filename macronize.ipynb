{
 "cells": [
  {
   "cell_type": "code",
   "execution_count": 1,
   "metadata": {},
   "outputs": [
    {
     "name": "stdout",
     "output_type": "stream",
     "text": [
      "\n",
      "Macronization took 2.03 seconds\n",
      "ἀ^γα^θὸς, κα^λὸς, ἀ^νήρ\n",
      "\n",
      "Evaluation took 0.01 seconds\n",
      "Ambiguous dichrona in open syllables before: 4\n",
      "Ambiguous dichrona in open syllables after: 0\n",
      "Difference: 4\n",
      "1.0\n"
     ]
    }
   ],
   "source": [
    "from class_macronizer import Macronizer\n",
    "\n",
    "macronizer = Macronizer(unicode=False)\n",
    "\n",
    "macronisandum = '''ἀγαθὸς, καλὸς, ἀνήρ'''\n",
    "macronisatum = macronizer.macronize_text(macronisandum)\n",
    "print(macronisatum)\n",
    "print(macronizer.macronization_ratio(macronisandum, macronisatum))"
   ]
  },
  {
   "cell_type": "code",
   "execution_count": null,
   "metadata": {},
   "outputs": [
    {
     "name": "stdout",
     "output_type": "stream",
     "text": [
      "\n",
      "Macronization took 17.35 seconds\n"
     ]
    }
   ],
   "source": [
    "from class_macronizer import Macronizer\n",
    "from anabasis import anabasis\n",
    "\n",
    "macronizer = Macronizer()\n",
    "\n",
    "macronisandum = anabasis\n",
    "macronisatum = macronizer.macronize_text(macronisandum)\n",
    "ratio = macronizer.macronization_ratio(macronisandum, macronisatum)\n",
    "print(ratio)\n"
   ]
  },
  {
   "cell_type": "code",
   "execution_count": null,
   "metadata": {},
   "outputs": [],
   "source": [
    "import cProfile\n",
    "from class_macronizer import Macronizer\n",
    "from anabasis import anabasis\n",
    "\n",
    "macronizer = Macronizer(unicode=False)\n",
    "\n",
    "macronized_anabasis = macronizer.macronize_text(anabasis)\n",
    "macronizer.macronization_ratio(anabasis,macronized_anabasis)\n",
    "\n",
    "cProfile.run('macronizer.macronization_ratio_words(macronized_anabasis, proper_names=False)')\n",
    "\n"
   ]
  }
 ],
 "metadata": {
  "kernelspec": {
   "display_name": "Python 3",
   "language": "python",
   "name": "python3"
  },
  "language_info": {
   "codemirror_mode": {
    "name": "ipython",
    "version": 3
   },
   "file_extension": ".py",
   "mimetype": "text/x-python",
   "name": "python",
   "nbconvert_exporter": "python",
   "pygments_lexer": "ipython3",
   "version": "3.13.0"
  }
 },
 "nbformat": 4,
 "nbformat_minor": 2
}
